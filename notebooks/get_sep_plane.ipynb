{
 "cells": [
  {
   "cell_type": "markdown",
   "id": "086ec6fc",
   "metadata": {},
   "source": [
    "# Getting separate planes\n",
    "\n",
    "### The code below processes the file with the marked planes resulting from the execution of the algorithm and selects each plane into a separate file\n",
    "\n"
   ]
  },
  {
   "cell_type": "code",
   "execution_count": 6,
   "id": "3bc34d20",
   "metadata": {},
   "outputs": [
    {
     "name": "stdout",
     "output_type": "stream",
     "text": [
      "Load a pcd point cloud and render it\n"
     ]
    }
   ],
   "source": [
    "import numpy as np\n",
    "import open3d as o3d\n",
    "\n",
    "print(\"Load a pcd point cloud and render it\")\n",
    "pcd=o3d.io.read_point_cloud(\"ps-ex/try/data/output/252706118624.seg.pcd\")\n",
    "# visualization\n",
    "o3d.visualization.draw_geometries([pcd])"
   ]
  },
  {
   "cell_type": "code",
   "execution_count": 7,
   "id": "edacc0e2",
   "metadata": {},
   "outputs": [],
   "source": [
    "# Convert Open3D.o3d.geometry.PointCloud to numpy array\n",
    "xyz=np.asarray(pcd.points)\n",
    "\n",
    "# Create an array with color values for each point\n",
    "pcd_color=np.asarray(pcd.colors)"
   ]
  },
  {
   "cell_type": "code",
   "execution_count": 8,
   "id": "74608513",
   "metadata": {},
   "outputs": [],
   "source": [
    "# Select all the colors\n",
    "colors=np.unique(pcd_color,axis=0)\n",
    "\n",
    "# Eliminate black dots\n",
    "colors=sorted(colors, key=lambda colors: (colors[0],colors[1],colors[2]))\n",
    "colors=colors[1:]\n"
   ]
  },
  {
   "cell_type": "code",
   "execution_count": 9,
   "id": "8de50a9c",
   "metadata": {},
   "outputs": [],
   "source": [
    "# Create a list, the elements of which are lists of points belonging to the same plane\n",
    "sep_lst=[]\n",
    "for k in range(len(colors)):\n",
    "               sep_lst.append([])\n",
    "\n",
    "for point in range(len(xyz)):\n",
    "    for it in range(len(colors)):\n",
    "        if pcd_color[point][0]==colors[it][0] and pcd_color[point][1]==colors[it][1] and pcd_color[point][2]==colors[it][2]:\n",
    "            sep_lst[it].append(xyz[point])\n",
    "            break\n"
   ]
  },
  {
   "cell_type": "code",
   "execution_count": 10,
   "id": "c228be25",
   "metadata": {},
   "outputs": [],
   "source": [
    "# Pass sep_lst[color] to Open3D.o3d.geometry.PointCloud and create a pcd file for each plane\n",
    "for color in range(len(colors)):\n",
    "    pcd_new=o3d.geometry.PointCloud()\n",
    "    pcd_new.points=o3d.utility.Vector3dVector(sep_lst[color])\n",
    "    pcd_new.paint_uniform_color(colors[color])\n",
    "    o3d.io.write_point_cloud(f\"plane{color}.pcd\", pcd_new)"
   ]
  },
  {
   "cell_type": "code",
   "execution_count": 12,
   "id": "2004bc66",
   "metadata": {},
   "outputs": [],
   "source": [
    "# Vizualization of the plane2\n",
    "pcd_2=o3d.io.read_point_cloud(\"plane2.pcd\")\n",
    "o3d.visualization.draw_geometries([pcd_2])"
   ]
  }
 ],
 "metadata": {
  "kernelspec": {
   "display_name": "Python 3 (ipykernel)",
   "language": "python",
   "name": "python3"
  },
  "language_info": {
   "codemirror_mode": {
    "name": "ipython",
    "version": 3
   },
   "file_extension": ".py",
   "mimetype": "text/x-python",
   "name": "python",
   "nbconvert_exporter": "python",
   "pygments_lexer": "ipython3",
   "version": "3.8.10"
  }
 },
 "nbformat": 4,
 "nbformat_minor": 5
}
