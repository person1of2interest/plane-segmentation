{
 "cells": [
  {
   "cell_type": "markdown",
   "id": "f7552ebb",
   "metadata": {},
   "source": [
    "# Linear Regression vs. RANSAC\n",
    "\n",
    "## This notebook is used for post-processing of individual planes and allows you to compare the effect of Linear Regression and RANSAC\n",
    "\n",
    "### The following libraries are used: numpy, open3d, scikit learn"
   ]
  },
  {
   "cell_type": "markdown",
   "id": "f87ddf10",
   "metadata": {},
   "source": [
    "# Common step"
   ]
  },
  {
   "cell_type": "code",
   "execution_count": 1,
   "id": "6ea139e6",
   "metadata": {},
   "outputs": [
    {
     "name": "stdout",
     "output_type": "stream",
     "text": [
      "Jupyter environment detected. Enabling Open3D WebVisualizer.\n",
      "[Open3D INFO] WebRTC GUI backend enabled.\n",
      "[Open3D INFO] WebRTCWindowSystem: HTTP handshake server disabled.\n"
     ]
    }
   ],
   "source": [
    "import numpy as np\n",
    "import open3d as o3d\n",
    "from sklearn import linear_model\n",
    "\n",
    "pcd=o3d.io.read_point_cloud(\"plane2.pcd\")\n",
    "\n",
    "# visualization\n",
    "o3d.visualization.draw_geometries([pcd])\n"
   ]
  },
  {
   "cell_type": "markdown",
   "id": "7a1ff835",
   "metadata": {},
   "source": [
    "# Linear Regression\n",
    "\n",
    "### This part is devoted to finding the approximate plane using the linear regression method\n",
    "\n",
    "#### The result of executing the code below is a point cloud containing the original plane and found by Linear Regression"
   ]
  },
  {
   "cell_type": "code",
   "execution_count": 2,
   "id": "19732274",
   "metadata": {},
   "outputs": [],
   "source": [
    "X_lr=np.asarray(pcd.points)\n",
    "X_lr_colors=np.asarray(pcd.colors)\n",
    "y_lr=np.negative(np.ones((X_lr.shape[0],1)))"
   ]
  },
  {
   "cell_type": "code",
   "execution_count": 3,
   "id": "69f5dc86",
   "metadata": {},
   "outputs": [
    {
     "data": {
      "text/plain": [
       "LinearRegression(fit_intercept=False)"
      ]
     },
     "execution_count": 3,
     "metadata": {},
     "output_type": "execute_result"
    }
   ],
   "source": [
    "lr=linear_model.LinearRegression(fit_intercept=False)\n",
    "lr.fit(X_lr,y_lr)\n",
    "\n",
    "#print(lr.predict(X_lr))\n",
    "#print(lr.coef_)"
   ]
  },
  {
   "cell_type": "code",
   "execution_count": 4,
   "id": "e49ce90c",
   "metadata": {},
   "outputs": [],
   "source": [
    "#ax+by+cz+d=0 (Ax+By+Cz=-1)\n",
    "color_new=np.random.sample([3])\n",
    "for p in range(X_lr.shape[0]):\n",
    "    z=-1-(lr.coef_[0][0]*X_lr[p][0])-(lr.coef_[0][1]*X_lr[p][1])\n",
    "    coord=np.hstack((X_lr[p][:2], np.array(z)))\n",
    "    X_lr=np.append(X_lr, [coord], axis=0)\n",
    "    X_lr_colors=np.append(X_lr_colors, [color_new], axis=0)"
   ]
  },
  {
   "cell_type": "code",
   "execution_count": 5,
   "id": "f9571406",
   "metadata": {},
   "outputs": [
    {
     "data": {
      "text/plain": [
       "True"
      ]
     },
     "execution_count": 5,
     "metadata": {},
     "output_type": "execute_result"
    }
   ],
   "source": [
    "pcd_lr=o3d.geometry.PointCloud()\n",
    "pcd_lr.points=o3d.utility.Vector3dVector(X_lr)\n",
    "pcd_lr.colors=o3d.utility.Vector3dVector(X_lr_colors)\n",
    "o3d.io.write_point_cloud(\"plane2lr.pcd\", pcd_lr)"
   ]
  },
  {
   "cell_type": "code",
   "execution_count": 6,
   "id": "4c411e28",
   "metadata": {},
   "outputs": [],
   "source": [
    "pcd_3=o3d.io.read_point_cloud(\"plane2lr.pcd\")\n",
    "\n",
    "# visualization\n",
    "o3d.visualization.draw_geometries([pcd_3])"
   ]
  },
  {
   "cell_type": "code",
   "execution_count": null,
   "id": "6a3599fb",
   "metadata": {},
   "outputs": [],
   "source": []
  },
  {
   "cell_type": "markdown",
   "id": "fbea4fe5",
   "metadata": {},
   "source": [
    "# RANSAC\n",
    "\n",
    "### This part is devoted to finding the approximate plane using the RANSAC method\n",
    "\n",
    "#### The result of executing the code below is a point cloud containing the original plane in which the outliers are painted with a different color\n"
   ]
  },
  {
   "cell_type": "code",
   "execution_count": 7,
   "id": "960101a9",
   "metadata": {},
   "outputs": [],
   "source": [
    "# Convert Open3D.o3d.geometry.PointCloud to numpy array\n",
    "X=np.asarray(pcd.points)\n",
    "y=np.negative(np.ones((X.shape[0],1)))"
   ]
  },
  {
   "cell_type": "code",
   "execution_count": 8,
   "id": "ecf4d793",
   "metadata": {
    "scrolled": true
   },
   "outputs": [
    {
     "data": {
      "text/plain": [
       "RANSACRegressor(base_estimator=LinearRegression(fit_intercept=False),\n",
       "                max_trials=200, residual_threshold=0.003)"
      ]
     },
     "execution_count": 8,
     "metadata": {},
     "output_type": "execute_result"
    }
   ],
   "source": [
    "ransac=linear_model.RANSACRegressor(residual_threshold=0.003, max_trials=200)\n",
    "ransac.set_params(**{'base_estimator':linear_model.LinearRegression(fit_intercept=False)})\n",
    "ransac.fit(X,y)\n",
    "\n",
    "#print(ransac.predict(X))"
   ]
  },
  {
   "cell_type": "code",
   "execution_count": 9,
   "id": "f6a92494",
   "metadata": {
    "scrolled": true
   },
   "outputs": [],
   "source": [
    "inlier_mask=ransac.inlier_mask_\n",
    "\n",
    "#print(ransac.estimator_.coef_)"
   ]
  },
  {
   "cell_type": "code",
   "execution_count": 10,
   "id": "9de8d66a",
   "metadata": {},
   "outputs": [
    {
     "name": "stdout",
     "output_type": "stream",
     "text": [
      "313\n"
     ]
    }
   ],
   "source": [
    "#counting outliers\n",
    "sum=0\n",
    "for i in inlier_mask:\n",
    "    if not i:\n",
    "        sum+=1\n",
    "print(sum)"
   ]
  },
  {
   "cell_type": "code",
   "execution_count": 11,
   "id": "02447730",
   "metadata": {},
   "outputs": [],
   "source": [
    "color=np.random.sample([3])\n",
    "X_colors=np.asarray(pcd.colors)"
   ]
  },
  {
   "cell_type": "code",
   "execution_count": 12,
   "id": "8a8a5bcd",
   "metadata": {},
   "outputs": [],
   "source": [
    "out_color=np.random.sample([3])\n",
    "for point in range(X.shape[0]):\n",
    "    if not inlier_mask[point]:\n",
    "        X_colors[point]=out_color"
   ]
  },
  {
   "cell_type": "code",
   "execution_count": 13,
   "id": "47cae617",
   "metadata": {},
   "outputs": [
    {
     "data": {
      "text/plain": [
       "True"
      ]
     },
     "execution_count": 13,
     "metadata": {},
     "output_type": "execute_result"
    }
   ],
   "source": [
    "pcd_ransac=o3d.geometry.PointCloud()\n",
    "pcd_ransac.points=o3d.utility.Vector3dVector(X)\n",
    "pcd_ransac.colors=o3d.utility.Vector3dVector(X_colors)\n",
    "o3d.io.write_point_cloud(\"plane2ransac.pcd\", pcd_ransac)"
   ]
  },
  {
   "cell_type": "code",
   "execution_count": 14,
   "id": "e44c859e",
   "metadata": {},
   "outputs": [],
   "source": [
    "pcd_2=o3d.io.read_point_cloud(\"plane2ransac.pcd\")\n",
    "\n",
    "# visualization\n",
    "o3d.visualization.draw_geometries([pcd_2])"
   ]
  },
  {
   "cell_type": "code",
   "execution_count": null,
   "id": "eb60a82f",
   "metadata": {},
   "outputs": [],
   "source": []
  }
 ],
 "metadata": {
  "kernelspec": {
   "display_name": "Python 3 (ipykernel)",
   "language": "python",
   "name": "python3"
  },
  "language_info": {
   "codemirror_mode": {
    "name": "ipython",
    "version": 3
   },
   "file_extension": ".py",
   "mimetype": "text/x-python",
   "name": "python",
   "nbconvert_exporter": "python",
   "pygments_lexer": "ipython3",
   "version": "3.8.10"
  }
 },
 "nbformat": 4,
 "nbformat_minor": 5
}
